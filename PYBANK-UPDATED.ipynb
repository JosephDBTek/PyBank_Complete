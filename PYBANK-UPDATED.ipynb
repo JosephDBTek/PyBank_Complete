{
 "cells": [
  {
   "cell_type": "code",
   "execution_count": 1,
   "metadata": {},
   "outputs": [
    {
     "name": "stdout",
     "output_type": "stream",
     "text": [
      "['Date', 'Profit/Losses'] <---- HEADER\n",
      "The number of months: 86\n",
      "total profit/losses:$38,382,578.00\n",
      "The average of the changes in profit/losses: -2315.1176470588234\n",
      "The greatest increase in profits: Feb-2012: 1926159\n",
      "The greatest decrease in losses: Sep-2013: -2196167\n"
     ]
    }
   ],
   "source": [
    "from pathlib import Path\n",
    "import csv\n",
    "\n",
    "# Set the file path \n",
    "csvpath = '../PyBank/budget_data.csv'\n",
    "\n",
    "# Initialize variable to hold profits\n",
    "profit_list = []\n",
    "\n",
    "# Initialize line_num variable\n",
    "line_num = 0\n",
    " \n",
    "# Open the input path as a file object\n",
    "#re-naming csvpath to csvfile \n",
    "with open(csvpath, 'r') as csvfile:\n",
    "    csvfile.seek(0)\n",
    "    # Pass in the csv file to the csv.reader() function\n",
    "    # (with ',' as the delmiter/separator) and return the csvreader object\n",
    "    csvreader = csv.reader(csvfile, delimiter=',')\n",
    "    # Go to the next row from the start of the file\n",
    "    # (which is often the first row/header) and iterate line_num by 1\n",
    "    header = next(csvreader)\n",
    "    # Print the header\n",
    "    print(f\"{header} <---- HEADER\")\n",
    "    \n",
    "    #Initialize variables \n",
    "    months = 0\n",
    "    total_profit = 0\n",
    "    total_changes = 0\n",
    "    pre_profit =  next(csvreader)\n",
    "    pre_profit=int(pre_profit[1])\n",
    "    csvfile.seek(0)\n",
    "    next(csvreader)\n",
    "    profit=0\n",
    "    change_profit=0\n",
    "    max_profit = 0\n",
    "    min_profit = 999999999999999999\n",
    "    maxdate=\"\"\n",
    "    mindate=\"\"\n",
    "    \n",
    "    # Read each row of data after the header\n",
    "    for row in csvreader:\n",
    "        # Set profit variable equal to the value in the 1st column of each row\n",
    "        profit = int(row[1]) \n",
    "        change_profit = profit - pre_profit\n",
    "        #calculates average change in revenue\n",
    "        total_profit = total_profit + profit\n",
    "        total_changes=total_changes + change_profit\n",
    "        pre_profit = profit\n",
    "        \n",
    "        #calculating total months \n",
    "        months = months + 1 \n",
    "      \n",
    "        #calculating max/min revunue changes\n",
    "        if change_profit < min_profit:\n",
    "            min_profit = change_profit\n",
    "            mindate = row[0] \n",
    "        elif change_profit > max_profit:\n",
    "            max_profit = change_profit\n",
    "            maxdate= row[0]\n",
    "        \n",
    "#The average of the changes in profit/losses\n",
    "averagech=total_changes/(months-1)\n",
    "\n",
    "print(f\"The number of months: {months}\")\n",
    "formatted_num='{:,.2f}'.format(total_profit)\n",
    "print(f\"total profit/losses:${formatted_num}\")\n",
    "print(f\"The average of the changes in profit/losses: {averagech}\")\n",
    "print(f\"The greatest increase in profits: {maxdate}: {max_profit}\")\n",
    "print(f\"The greatest decrease in losses: {mindate}: {min_profit}\")\n"
   ]
  },
  {
   "cell_type": "code",
   "execution_count": 20,
   "metadata": {},
   "outputs": [],
   "source": [
    "output_path = Path(\"../PyBank/budget_data.txt\") \n",
    "\n",
    "# Open the output_path as a file object in \"write\" mode ('w')\n",
    "# Write a header line and write the contents of 'text' to the file\n",
    "with open(output_path, 'w') as file:\n",
    "    file.write(\"----------------------------------------------------------\\n\")\n",
    "    file.write(\"  Financial Analysis\"+ \"\\n\")\n",
    "    file.write(\"----------------------------------------------------------\\n\\n\")\n",
    "    file.write(\"    Total Months: \" + str(\"86\") + \"\\n\")\n",
    "    file.write(\"    Total Profits: \" + \"$\" + str(total_profit) +\"\\n\")\n",
    "    file.write(f\"    The average of the changes in profit/losses: {averagech}\\n\") \n",
    "    file.write(f\"    The greatest increase in profits: {maxdate}: {max_profit}\\n\") \n",
    "    file.write(f\"    The greatest decrease in losses: {mindate}: {min_profit}\\n\") "
   ]
  },
  {
   "cell_type": "code",
   "execution_count": null,
   "metadata": {},
   "outputs": [],
   "source": []
  }
 ],
 "metadata": {
  "kernelspec": {
   "display_name": "Python 3",
   "language": "python",
   "name": "python3"
  },
  "language_info": {
   "codemirror_mode": {
    "name": "ipython",
    "version": 3
   },
   "file_extension": ".py",
   "mimetype": "text/x-python",
   "name": "python",
   "nbconvert_exporter": "python",
   "pygments_lexer": "ipython3",
   "version": "3.7.6"
  }
 },
 "nbformat": 4,
 "nbformat_minor": 4
}
